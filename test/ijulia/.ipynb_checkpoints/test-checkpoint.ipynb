{
 "cells": [
  {
   "cell_type": "code",
   "execution_count": 1,
   "id": "e16eb0f4",
   "metadata": {},
   "outputs": [
    {
     "data": {
      "text/plain": [
       "4-element Vector{String}:\n",
       " \"/projappl/project_2001659/tollande/.julia\"\n",
       " \"/users/tollande/.julia\"\n",
       " \"/appl/soft/math/julia/julia-1.8.5/usr/local/share/julia\"\n",
       " \"/appl/soft/math/julia/julia-1.8.5/usr/share/julia\""
      ]
     },
     "execution_count": 1,
     "metadata": {},
     "output_type": "execute_result"
    }
   ],
   "source": [
    "DEPOT_PATH"
   ]
  },
  {
   "cell_type": "code",
   "execution_count": 2,
   "id": "99d685ad",
   "metadata": {},
   "outputs": [
    {
     "data": {
      "text/plain": [
       "4-element Vector{String}:\n",
       " \"@\"\n",
       " \"@v#.#\"\n",
       " \"@stdlib\"\n",
       " \"/appl/soft/math/julia/julia-1.8.5/usr/local/share/julia/environments/ijulia\""
      ]
     },
     "execution_count": 2,
     "metadata": {},
     "output_type": "execute_result"
    }
   ],
   "source": [
    "LOAD_PATH"
   ]
  },
  {
   "cell_type": "code",
   "execution_count": 3,
   "id": "6e8602a5",
   "metadata": {},
   "outputs": [],
   "source": [
    "using Pkg"
   ]
  },
  {
   "cell_type": "code",
   "execution_count": 4,
   "id": "3c68e8fe",
   "metadata": {},
   "outputs": [
    {
     "name": "stdout",
     "output_type": "stream",
     "text": [
      "\u001b[32m\u001b[1mStatus\u001b[22m\u001b[39m `~/notebooks/Project.toml`\n",
      " \u001b[90m [a93c6f00] \u001b[39mDataFrames v1.5.0\n"
     ]
    }
   ],
   "source": [
    "Pkg.status()"
   ]
  },
  {
   "cell_type": "code",
   "execution_count": 5,
   "id": "f90bd124",
   "metadata": {},
   "outputs": [
    {
     "name": "stdout",
     "output_type": "stream",
     "text": [
      "Available kernels:\n",
      "  julia-1.8    /appl/soft/math/julia/jupyter-env/share/jupyter/kernels/julia-1.8\n",
      "  python3      /appl/soft/math/julia/jupyter-env/share/jupyter/kernels/python3\n"
     ]
    },
    {
     "data": {
      "text/plain": [
       "Process(`\u001b[4mjupyter\u001b[24m \u001b[4mkernelspec\u001b[24m \u001b[4mlist\u001b[24m`, ProcessExited(0))"
      ]
     },
     "execution_count": 5,
     "metadata": {},
     "output_type": "execute_result"
    }
   ],
   "source": [
    "run(`jupyter kernelspec list`)"
   ]
  },
  {
   "cell_type": "code",
   "execution_count": 9,
   "id": "187695b9",
   "metadata": {},
   "outputs": [
    {
     "name": "stdout",
     "output_type": "stream",
     "text": [
      "config:\n",
      "    /users/tollande/.jupyter\n",
      "    /appl/soft/math/julia/jupyter-env/etc/jupyter\n",
      "    /usr/local/etc/jupyter\n",
      "    /etc/jupyter\n",
      "data:\n",
      "    /users/tollande/.local/share/jupyter\n",
      "    /appl/soft/math/julia/jupyter-env/share/jupyter\n",
      "    /usr/local/share/jupyter\n",
      "    /usr/share/jupyter\n",
      "runtime:\n",
      "    /users/tollande/.local/share/jupyter/runtime\n"
     ]
    },
    {
     "data": {
      "text/plain": [
       "Process(`\u001b[4mjupyter\u001b[24m \u001b[4m--paths\u001b[24m`, ProcessExited(0))"
      ]
     },
     "execution_count": 9,
     "metadata": {},
     "output_type": "execute_result"
    }
   ],
   "source": [
    "run(`jupyter --paths`)"
   ]
  },
  {
   "cell_type": "code",
   "execution_count": null,
   "id": "c45d7ea3",
   "metadata": {},
   "outputs": [],
   "source": []
  }
 ],
 "metadata": {
  "kernelspec": {
   "display_name": "julia 1.8.5",
   "language": "julia",
   "name": "julia-1.8"
  },
  "language_info": {
   "file_extension": ".jl",
   "mimetype": "application/julia",
   "name": "julia",
   "version": "1.8.5"
  }
 },
 "nbformat": 4,
 "nbformat_minor": 5
}
