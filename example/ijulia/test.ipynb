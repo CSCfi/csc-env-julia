{
 "cells": [
  {
   "cell_type": "code",
   "execution_count": null,
   "id": "e16eb0f4",
   "metadata": {},
   "outputs": [],
   "source": [
    "DEPOT_PATH"
   ]
  },
  {
   "cell_type": "code",
   "execution_count": null,
   "id": "99d685ad",
   "metadata": {},
   "outputs": [],
   "source": [
    "LOAD_PATH"
   ]
  },
  {
   "cell_type": "code",
   "execution_count": null,
   "id": "6e8602a5",
   "metadata": {},
   "outputs": [],
   "source": [
    "using Pkg"
   ]
  },
  {
   "cell_type": "code",
   "execution_count": null,
   "id": "3c68e8fe",
   "metadata": {},
   "outputs": [],
   "source": [
    "Pkg.status()"
   ]
  },
  {
   "cell_type": "code",
   "execution_count": null,
   "id": "f90bd124",
   "metadata": {},
   "outputs": [],
   "source": [
    "run(`jupyter kernelspec list`)"
   ]
  },
  {
   "cell_type": "code",
   "execution_count": null,
   "id": "187695b9",
   "metadata": {},
   "outputs": [],
   "source": [
    "run(`jupyter --paths`)"
   ]
  },
  {
   "cell_type": "code",
   "execution_count": null,
   "id": "c45d7ea3",
   "metadata": {},
   "outputs": [],
   "source": [
    "using Test"
   ]
  },
  {
   "cell_type": "code",
   "execution_count": null,
   "id": "f41fe03e",
   "metadata": {},
   "outputs": [],
   "source": [
    "@test true"
   ]
  },
  {
   "cell_type": "code",
   "execution_count": null,
   "id": "ac35e066",
   "metadata": {},
   "outputs": [],
   "source": []
  }
 ],
 "metadata": {
  "kernelspec": {
   "display_name": "julia 1.8.5",
   "language": "julia",
   "name": "julia-1.8"
  },
  "language_info": {
   "file_extension": ".jl",
   "mimetype": "application/julia",
   "name": "julia",
   "version": "1.8.5"
  }
 },
 "nbformat": 4,
 "nbformat_minor": 5
}
